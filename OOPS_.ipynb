{
  "nbformat": 4,
  "nbformat_minor": 0,
  "metadata": {
    "colab": {
      "provenance": []
    },
    "kernelspec": {
      "name": "python3",
      "display_name": "Python 3"
    },
    "language_info": {
      "name": "python"
    }
  },
  "cells": [
    {
      "cell_type": "markdown",
      "source": [
        "##1.What is Object-Oriented Programming (OOP)?\n",
        "==>> ChatGPT said:\n",
        "Object-Oriented Programming (OOP) is a programming paradigm based on the concept of \"objects\", which can contain data (called attributes or properties) and code (called methods or functions). OOP is designed to help organize and manage complex software systems by modeling real-world entities"
      ],
      "metadata": {
        "id": "_6Oeb7ctKr9u"
      }
    },
    {
      "cell_type": "markdown",
      "source": [
        "##2. What is a class in OOP?\n",
        "==>> A blueprint for creating objects. It defines a set of attributes and methods that the created objects will have.\n",
        "Example: A Car class with attributes like color, model and methods like start() or stop()."
      ],
      "metadata": {
        "id": "B2QC--VcNPrt"
      }
    },
    {
      "cell_type": "markdown",
      "source": [
        "##3.What is an object in OOP?\n",
        "==>> An instance of a class. Each object has its own values for the attributes defined in the class.\n",
        "Example: car1 = Car('Red', 'Honda') is an object of the Car class."
      ],
      "metadata": {
        "id": "0qBouaj7NndI"
      }
    },
    {
      "cell_type": "markdown",
      "source": [
        "##4.What is the difference between abstraction and encapsulation?\n",
        "==>>  **Abstraction**\n",
        "\n",
        "**Definition**: Hiding unnecessary details and showing only the essential features of an object.\n",
        "\n",
        "Purpose: To focus on what an object does rather than how it does it.\n",
        "\n",
        "**Example:**\n",
        "\n",
        "When you drive a car, you use the steering wheel and pedals (the interface), but you don't see the internal mechanics (the implementation).\n",
        "\n",
        "**Implementation**: Achieved using abstract classes or interfaces in languages like Java or using methods with limited access in general.\n",
        "\n",
        " **Encapsulation**\n",
        "\n",
        "\n",
        "Definition:\n",
        "\n",
        " Binding data (variables) and methods (functions) together in a class, and restricting direct access to some of the object’s components.\n",
        "\n",
        "Purpose: To protect the internal state of an object and ensure it's used as intended.\n",
        "\n",
        "Example:\n",
        "\n",
        "A BankAccount class with a private balance variable and public methods deposit() and withdraw() to control how the balance is changed.\n",
        "\n",
        "Implementation: Achieved using access modifiers like private, public, protected."
      ],
      "metadata": {
        "id": "PWbbenEeKsNy"
      }
    },
    {
      "cell_type": "markdown",
      "source": [
        "##5. What are dunder methods in Python?\n",
        "\n",
        "==>> In Python, dunder methods (short for “double underscore” methods) are special, built-in methods that start and end with double underscores. They’re also called magic methods or special methods.\n",
        "\n",
        "🔹 Examples of Dunder Methods:\n",
        "__init__() – Constructor method (called when an object is created).\n",
        "\n",
        "__str__() – Defines what should be returned when str(obj) or print(obj) is called.\n",
        "\n",
        "__len__() – Returns the length of an object when len(obj) is called.\n",
        "\n",
        "__add__() – Defines behavior for the + operator.\n",
        "\n",
        "__eq__() – Defines behavior for the == operator."
      ],
      "metadata": {
        "id": "du9cK-0iQJ9T"
      }
    },
    {
      "cell_type": "code",
      "source": [
        "class Book:\n",
        "    def __init__(self, title, pages):\n",
        "        self.title = title\n",
        "        self.pages = pages\n",
        "\n",
        "    def __str__(self):\n",
        "        return f\"{self.title} - {self.pages} pages\"\n",
        "\n",
        "    def __len__(self):\n",
        "        return self.pages\n",
        "\n",
        "book = Book(\"Python Basics\", 300)\n",
        "\n",
        "print(book)       # Calls __str__ → Output: Python Basics - 300 pages\n",
        "print(len(book))  # Calls __len__ → Output: 300\n"
      ],
      "metadata": {
        "colab": {
          "base_uri": "https://localhost:8080/"
        },
        "id": "P-9mxs0kQJOd",
        "outputId": "3affac78-de2e-4cc1-bcc0-26afb8773e21"
      },
      "execution_count": null,
      "outputs": [
        {
          "output_type": "stream",
          "name": "stdout",
          "text": [
            "Python Basics - 300 pages\n",
            "300\n"
          ]
        }
      ]
    },
    {
      "cell_type": "markdown",
      "source": [
        " ##6. Explain the concept of inheritance in OOP ?\n",
        "\n",
        "==>>\n",
        "\n",
        " Inheritance in Object-Oriented Programming (OOP)\n",
        "Inheritance is a fundamental concept in OOP that allows one class (called the child or subclass) to inherit attributes and methods from another class (called the parent or superclass).\n",
        "\n",
        "✅ Purpose of Inheritance:\n",
        "Code Reusability: Avoid rewriting code.\n",
        "\n",
        "Hierarchy Representation: Reflect real-world relationships.\n",
        "\n",
        "Extensibility: Allow child classes to extend or override behaviors of parent classes"
      ],
      "metadata": {
        "id": "5rJ1xrVdRr5f"
      }
    },
    {
      "cell_type": "code",
      "source": [
        "class Parent:\n",
        "    def greet(self):\n",
        "        print(\"Hello from Parent\")\n",
        "\n",
        "class Child(Parent):  # Child inherits from Parent\n",
        "    pass\n",
        "\n",
        "c = Child()\n",
        "c.greet()  # Inherited from Parent\n"
      ],
      "metadata": {
        "colab": {
          "base_uri": "https://localhost:8080/"
        },
        "id": "MqC7r8eRQ3bc",
        "outputId": "f4547568-1a14-4662-c3f9-6b4d9500b035"
      },
      "execution_count": null,
      "outputs": [
        {
          "output_type": "stream",
          "name": "stdout",
          "text": [
            "Hello from Parent\n"
          ]
        }
      ]
    },
    {
      "cell_type": "markdown",
      "source": [
        "##7.What is polymorphism in OOP?\n",
        "==>> Polymorphism means \"many forms\". In OOP, it allows objects of different classes to be treated as objects of a common superclass, particularly through shared methods—but each class can implement those methods differently.\n",
        "\n",
        "Compile-Time Polymorphism (also called method overloading – not natively supported in Python but available in languages like Java).\n",
        "\n",
        "Run-Time Polymorphism (via method overriding – widely used in Python and other OOP languages).\n"
      ],
      "metadata": {
        "id": "OJWkzJkFSR0-"
      }
    },
    {
      "cell_type": "code",
      "source": [
        "class Animal:\n",
        "    def speak(self):\n",
        "        print(\"Animal makes a sound\")\n",
        "\n",
        "class Dog(Animal):\n",
        "    def speak(self):\n",
        "        print(\"Dog barks\")\n",
        "\n",
        "class Cat(Animal):\n",
        "    def speak(self):\n",
        "        print(\"Cat meows\")\n",
        "\n",
        "# Polymorphism in action\n",
        "animals = [Dog(), Cat(), Animal()]\n",
        "\n",
        "for a in animals:\n",
        "    a.speak()  # Each object responds differently to the same method call\n"
      ],
      "metadata": {
        "colab": {
          "base_uri": "https://localhost:8080/"
        },
        "id": "bGr_Jv54SRBE",
        "outputId": "e2865c80-3e86-43d7-c71b-5f08c25ee0f9"
      },
      "execution_count": null,
      "outputs": [
        {
          "output_type": "stream",
          "name": "stdout",
          "text": [
            "Dog barks\n",
            "Cat meows\n",
            "Animal makes a sound\n"
          ]
        }
      ]
    },
    {
      "cell_type": "markdown",
      "source": [
        "##8.H How is encapsulation achieved in Python?\n",
        "==>>\n",
        "Encapsulation is the concept of hiding internal data and restricting access to it directly, allowing interaction only through defined methods. It protects an object’s internal state and promotes safe data handling.\n",
        "\n",
        "| Access Level | Syntax         | Description                                                            |\n",
        "| ------------ | -------------- | ---------------------------------------------------------------------- |\n",
        "| Public       | `self.value`   | Accessible from anywhere                                               |\n",
        "| Protected    | `_self.value`  | Meant to be accessed only within the class or subclass (by convention) |\n",
        "| Private      | `__self.value` | Name-mangled to prevent direct access                                  |\n"
      ],
      "metadata": {
        "id": "nmVgXujQVXst"
      }
    },
    {
      "cell_type": "code",
      "source": [
        "class BankAccount:\n",
        "    def __init__(self, balance):\n",
        "        self.__balance = balance  # private attribute\n",
        "\n",
        "    def deposit(self, amount):\n",
        "        if amount > 0:\n",
        "            self.__balance += amount\n",
        "\n",
        "    def withdraw(self, amount):\n",
        "        if 0 < amount <= self.__balance:\n",
        "            self.__balance -= amount\n",
        "\n",
        "    def get_balance(self):\n",
        "        return self.__balance\n",
        "\n",
        "# Usage\n",
        "account = BankAccount(1000)\n",
        "account.deposit(500)\n",
        "account.withdraw(200)\n",
        "\n",
        "print(account.get_balance())  # Output: 1300\n",
        "\n",
        "# Trying to access directly will fail\n",
        "# print(account.__balance)  # AttributeError\n"
      ],
      "metadata": {
        "colab": {
          "base_uri": "https://localhost:8080/"
        },
        "id": "NEQkSW2RV90X",
        "outputId": "37b07fce-1708-4582-a668-e95405fd6490"
      },
      "execution_count": null,
      "outputs": [
        {
          "output_type": "stream",
          "name": "stdout",
          "text": [
            "1300\n"
          ]
        }
      ]
    },
    {
      "cell_type": "markdown",
      "source": [
        "##9.How is encapsulation achieved in Python?\n",
        "==>>In Python, encapsulation is achieved through a combination of access control and method design, even though Python doesn't enforce strict access restrictions like some other languages (e.g., Java or C++). Instead, it relies on naming conventions and properties to guide developers.\n",
        "\n",
        "\n",
        "| Type          | Syntax Example | Accessibility                                  |\n",
        "| ------------- | -------------- | ---------------------------------------------- |\n",
        "| **Public**    | `self.name`    | Accessible from anywhere                       |\n",
        "| **Protected** | `self._name`   | Internal use (by convention), still accessible |\n",
        "| **Private**   | `self.__name`  | Name mangled to prevent external access        |\n"
      ],
      "metadata": {
        "id": "swKRdTp3WLpq"
      }
    },
    {
      "cell_type": "code",
      "source": [
        "class Student:\n",
        "    def __init__(self, name, marks):\n",
        "        self.name = name          # public\n",
        "        self._school = \"ABC High\" # protected (convention)\n",
        "        self.__marks = marks      # private\n",
        "\n",
        "    def get_marks(self):\n",
        "        return self.__marks\n",
        "\n",
        "    def set_marks(self, new_marks):\n",
        "        if 0 <= new_marks <= 100:\n",
        "            self.__marks = new_marks\n",
        "        else:\n",
        "            print(\"Invalid marks\")\n",
        "\n",
        "# Using the class\n",
        "s = Student(\"Ravi\", 85)\n",
        "print(s.name)             # Accessible\n",
        "print(s._school)          # Accessible but discouraged\n",
        "print(s.get_marks())      # Safe access to private data\n",
        "s.set_marks(90)           # Modify with validation\n",
        "print(s.get_marks())\n",
        "\n",
        "# Direct access to __marks will fail\n",
        "# print(s.__marks)        # AttributeError\n"
      ],
      "metadata": {
        "colab": {
          "base_uri": "https://localhost:8080/"
        },
        "id": "qV_gyjlJWmAS",
        "outputId": "c613d024-a8ef-4487-88dc-127c7e40bc4e"
      },
      "execution_count": null,
      "outputs": [
        {
          "output_type": "stream",
          "name": "stdout",
          "text": [
            "Ravi\n",
            "ABC High\n",
            "85\n",
            "90\n"
          ]
        }
      ]
    },
    {
      "cell_type": "markdown",
      "source": [
        "##10.What are class and static methods in Python?"
      ],
      "metadata": {
        "id": "qCGY4sydWyTc"
      }
    },
    {
      "cell_type": "markdown",
      "source": [
        "\n",
        "\n",
        "In Python, class methods and static methods are two types of methods that are bound differently than regular instance methods. They are defined using special decorators and serve different purposes.\n",
        "\n",
        "🔷 **1. Class Method**\n",
        "\n",
        "Bound to the class, not the instance.\n",
        "\n",
        "Can access or modify class state using cls.\n",
        "\n",
        "Defined using the @classmethod decorator.\n",
        "\n",
        "\n",
        "** 2.Static Method**\n",
        "\n",
        "Not bound to the class or instance.\n",
        "\n",
        "Can't access or modify class or instance state.\n",
        "\n",
        "Defined using the @staticmethod decorator."
      ],
      "metadata": {
        "id": "rRqLUGWUTpSs"
      }
    },
    {
      "cell_type": "code",
      "source": [
        "class Person:\n",
        "    species = \"Human\"\n",
        "\n",
        "    def __init__(self, name):\n",
        "        self.name = name\n",
        "\n",
        "    @classmethod\n",
        "    def info(cls):\n",
        "        print(f\"We are {cls.species}s.\")\n",
        "\n",
        "    @staticmethod\n",
        "    def is_adult(age):\n",
        "        return age >= 18\n",
        "\n",
        "# Usage\n",
        "p = Person(\"Alice\")\n",
        "\n",
        "Person.info()             # Class method\n",
        "print(Person.is_adult(20))  # Static method\n"
      ],
      "metadata": {
        "colab": {
          "base_uri": "https://localhost:8080/"
        },
        "id": "l1Umux29SLt7",
        "outputId": "d4468d74-a882-44d1-ea48-4d7af38c0d88"
      },
      "execution_count": null,
      "outputs": [
        {
          "output_type": "stream",
          "name": "stdout",
          "text": [
            "We are Humans.\n",
            "True\n"
          ]
        }
      ]
    },
    {
      "cell_type": "markdown",
      "source": [
        "##11.What is method overloading in Python?\n",
        "==> Method overloading means defining multiple methods with the same name but different parameters (number or type), allowing the method to behave differently based on how it's called.\n",
        "\n"
      ],
      "metadata": {
        "id": "9rH254O-UlD3"
      }
    },
    {
      "cell_type": "code",
      "source": [
        "class Demo:\n",
        "    def greet(self):\n",
        "        print(\"Hello\")\n",
        "\n",
        "    def greet(self, name):  # This overwrites the first one\n",
        "        print(f\"Hello, {name}\")\n",
        "\n",
        "d = Demo()\n",
        "d.greet(\"Alice\")  # Works\n",
        "# d.greet()       # Error: missing 1 required argument\n"
      ],
      "metadata": {
        "colab": {
          "base_uri": "https://localhost:8080/"
        },
        "id": "uMiJYzUVYBVt",
        "outputId": "1bb087df-f1ec-4c62-a5d6-567ab3b450e7"
      },
      "execution_count": null,
      "outputs": [
        {
          "output_type": "stream",
          "name": "stdout",
          "text": [
            "Hello, Alice\n"
          ]
        }
      ]
    },
    {
      "cell_type": "code",
      "source": [
        "class Calculator:\n",
        "    def add(self, *args):\n",
        "        return sum(args)\n",
        "\n",
        "c = Calculator()\n",
        "print(c.add(2, 3))           # 5\n",
        "print(c.add(1, 2, 3, 4, 5))  # 15\n"
      ],
      "metadata": {
        "colab": {
          "base_uri": "https://localhost:8080/"
        },
        "id": "l_HkfoXtUkkC",
        "outputId": "07c535ae-7839-4c1a-9311-82c87bb9c808"
      },
      "execution_count": null,
      "outputs": [
        {
          "output_type": "stream",
          "name": "stdout",
          "text": [
            "5\n",
            "15\n"
          ]
        }
      ]
    },
    {
      "cell_type": "markdown",
      "source": [
        "##12. What is method overriding in OOP?\n",
        "==>Method overriding in Object-Oriented Programming (OOP) is a feature that allows a subclass (child class) to provide a specific implementation of a method that is already defined in its superclass (parent class).\n",
        "\n",
        "**Key Points:**\n",
        "\n",
        "The method in the subclass must have the same name, return type, and parameters as the method in the parent class.\n",
        "\n",
        "It is used to achieve runtime polymorphism (dynamic method dispatch).\n",
        "\n",
        "The overridden method in the child class is called instead of the one in the parent class, when accessed through a subclass object."
      ],
      "metadata": {
        "id": "v--dvgyEYShS"
      }
    },
    {
      "cell_type": "markdown",
      "source": [
        "##13.What is a property decorator in Python?\n",
        "==>> A decorator in Python is a design pattern that allows you to extend or modify the behavior of a callable (function, method, or class) without directly changing its source code. Decorators are implemented using functions or classes that wrap another function, adding functionality before or after the wrapped function runs.\n",
        "\n",
        "A decorator is a function that takes another function as an argument, adds some functionality, and returns a new function.\n",
        "Decorators are typically applied using the @decorator_name syntax above a function definition.\n",
        "They are commonly used for logging, access control, memoization, or timing functions."
      ],
      "metadata": {
        "id": "S3Z1oYQwe_8x"
      }
    },
    {
      "cell_type": "code",
      "source": [
        "def log_decorator(func):\n",
        "    def wrapper(*args, **kwargs):\n",
        "        print(f\"Calling function: {func.__name__}\")\n",
        "        result = func(*args, **kwargs)\n",
        "        print(f\"Finished function: {func.__name__}\")\n",
        "        return result\n",
        "    return wrapper\n",
        "\n",
        "@log_decorator\n",
        "def greet(name):\n",
        "    return f\"Hello, {name}!\"\n",
        "\n",
        "# Call the decorated function\n",
        "print(greet(\"Alice\"))"
      ],
      "metadata": {
        "id": "a6iTLdfUUkWO",
        "colab": {
          "base_uri": "https://localhost:8080/"
        },
        "outputId": "86893257-c529-42b0-825e-5126ba0103e0"
      },
      "execution_count": null,
      "outputs": [
        {
          "output_type": "stream",
          "name": "stdout",
          "text": [
            "Calling function: greet\n",
            "Finished function: greet\n",
            "Hello, Alice!\n"
          ]
        }
      ]
    },
    {
      "cell_type": "markdown",
      "source": [
        "##14.Why is polymorphism important in OOP?\n",
        "==> **Polymorphism in OOP:**\n",
        "\n",
        "Definition:\n",
        "Polymorphism means the ability of different classes to respond to the same method in their own way.\n",
        "\n",
        "**Importance:**\n",
        "\n",
        "Promotes code reusability and flexibility.\n",
        "\n",
        "Allows functions to use objects of different types interchangeably.\n",
        "\n",
        "Reduces complex conditional code."
      ],
      "metadata": {
        "id": "Id7cTMgpgojC"
      }
    },
    {
      "cell_type": "code",
      "source": [
        "class Animal:\n",
        "    def speak(self): pass\n",
        "\n",
        "class Dog(Animal):\n",
        "    def speak(self): return \"Bark\"\n",
        "\n",
        "class Cat(Animal):\n",
        "    def speak(self): return \"Meow\"\n",
        "\n",
        "def make_sound(animal):\n",
        "    print(animal.speak())\n",
        "\n",
        "make_sound(Dog())\n",
        "make_sound(Cat())\n"
      ],
      "metadata": {
        "id": "ygdlFwsAUhp7",
        "colab": {
          "base_uri": "https://localhost:8080/"
        },
        "outputId": "bfe63fc1-b014-4dd5-bb55-753a99cfafc1"
      },
      "execution_count": null,
      "outputs": [
        {
          "output_type": "stream",
          "name": "stdout",
          "text": [
            "Bark\n",
            "Meow\n"
          ]
        }
      ]
    },
    {
      "cell_type": "markdown",
      "source": [
        "##15.What is an abstract class in Python?\n",
        "==>>** Definition:**\n",
        "\n",
        "An abstract class is a class that cannot be instantiated and may contain abstract methods that must be implemented by its subclasses.\n",
        "\n",
        "Use:\n",
        "To define a common interface for all subclasses.\n",
        "\n",
        "How:\n",
        "Use the abc module with ABC and @abstractmetho"
      ],
      "metadata": {
        "id": "EBQz-jT3hi_9"
      }
    },
    {
      "cell_type": "code",
      "source": [
        "from abc import ABC, abstractmethod\n",
        "\n",
        "class Animal(ABC):\n",
        "    @abstractmethod\n",
        "    def sound(self):\n",
        "        pass\n",
        "\n",
        "class Dog(Animal):\n",
        "    def sound(self):\n",
        "        return \"Bark\"\n",
        "\n",
        "d = Dog()\n",
        "print(d.sound())\n"
      ],
      "metadata": {
        "colab": {
          "base_uri": "https://localhost:8080/"
        },
        "id": "ENsy4tPMhfAI",
        "outputId": "2c985dac-8690-43ad-b1c9-a714301c0777"
      },
      "execution_count": null,
      "outputs": [
        {
          "output_type": "stream",
          "name": "stdout",
          "text": [
            "Bark\n"
          ]
        }
      ]
    },
    {
      "cell_type": "markdown",
      "source": [
        "##16.What are the advantages of OOP?\n",
        "==>\n",
        "\n",
        "1.**Modularity**:\n",
        "Code is organized into classes, making it easy to manage and understand.\n",
        "\n",
        "\n",
        "2.**Reusability**:\n",
        "Code can be reused through inheritance.\n",
        "\n",
        "3.**Encapsulation**:\n",
        "Protects data by bundling it with related methods.\n",
        "\n",
        "4.**Polymorphism**:\n",
        "Same method name can work differently for different classes.\n",
        "\n",
        "5.**Scalability and Maintainability**\n",
        "Easier to modify and extend code in large programs."
      ],
      "metadata": {
        "id": "p6etFE-3iLi2"
      }
    },
    {
      "cell_type": "markdown",
      "source": [
        "##17.What is the difference between a class variable and an instance variable?\n",
        "==>>\n",
        "\n",
        "| Feature         | Class Variable                            | Instance Variable                          |\n",
        "| --------------- | ----------------------------------------- | ------------------------------------------ |\n",
        "| **Defined in**  | Inside class, outside methods             | Inside constructor (`__init__`) or methods |\n",
        "| **Belongs to**  | Class (shared by all objects)             | Each object (unique for every instance)    |\n",
        "| **Accessed by** | `ClassName.variable` or `object.variable` | `object.variable`                          |\n",
        "| **Memory**      | One copy shared by all instances          | Separate copy for each instance            |\n"
      ],
      "metadata": {
        "id": "5jYuldxNjIk0"
      }
    },
    {
      "cell_type": "code",
      "source": [
        "class Student:\n",
        "    school = \"ABC High\"  # Class variable\n",
        "\n",
        "    def __init__(self, name):\n",
        "        self.name = name  # Instance variable\n",
        "\n",
        "s1 = Student(\"Alice\")\n",
        "s2 = Student(\"Bob\")\n",
        "\n",
        "print(s1.school)\n",
        "print(s2.name)\n"
      ],
      "metadata": {
        "colab": {
          "base_uri": "https://localhost:8080/"
        },
        "id": "YQUZatuAiBtB",
        "outputId": "78ba9ad2-f6d3-401e-fac8-b6dbdd7f72d3"
      },
      "execution_count": null,
      "outputs": [
        {
          "output_type": "stream",
          "name": "stdout",
          "text": [
            "ABC High\n",
            "Bob\n"
          ]
        }
      ]
    },
    {
      "cell_type": "markdown",
      "source": [
        "##18.What is multiple inheritance in Python?\n",
        "==>\n",
        "\n",
        "**Definition:**\n",
        "Multiple inheritance is when a class inherits from more than one parent class.\n",
        "\n",
        "**Use:**\n",
        "It allows a class to use features of multiple classes.\n"
      ],
      "metadata": {
        "id": "1lqBWiZrj0TG"
      }
    },
    {
      "cell_type": "code",
      "source": [
        "class A:\n",
        "    def method_a(self):\n",
        "        print(\"A\")\n",
        "\n",
        "class B:\n",
        "    def method_b(self):\n",
        "        print(\"B\")\n",
        "\n",
        "class C(A, B):  # Multiple inheritance\n",
        "    pass\n",
        "\n",
        "obj = C()\n",
        "obj.method_a()\n",
        "obj.method_b()\n"
      ],
      "metadata": {
        "colab": {
          "base_uri": "https://localhost:8080/"
        },
        "id": "PZQJSFvEjvNA",
        "outputId": "dad0b850-1dc6-43a2-ac3d-106ed5582241"
      },
      "execution_count": null,
      "outputs": [
        {
          "output_type": "stream",
          "name": "stdout",
          "text": [
            "A\n",
            "B\n"
          ]
        }
      ]
    },
    {
      "cell_type": "markdown",
      "source": [
        "##19.Explain the purpose of ‘’__str__’ and ‘__repr__’ ‘ methods in Python?\n",
        "==>>\n",
        "\n",
        "| Method       | Purpose                                 | Used by               |\n",
        "| ------------ | --------------------------------------- | --------------------- |\n",
        "| `__str__()`  | Returns a **user-friendly** string      | `print()` and `str()` |\n",
        "| `__repr__()` | Returns a **developer-friendly** string | `repr()` or console   |\n"
      ],
      "metadata": {
        "id": "stkKFqnLkgCE"
      }
    },
    {
      "cell_type": "code",
      "source": [
        "class Book:\n",
        "    def __init__(self, title):\n",
        "        self.title = title\n",
        "\n",
        "    def __str__(self):\n",
        "        return f\"Book title: {self.title}\"\n",
        "\n",
        "    def __repr__(self):\n",
        "        return f\"Book('{self.title}')\"\n",
        "\n",
        "b = Book(\"Python Basics\")\n",
        "print(b)         # Calls __str__: Book title: Python Basics\n",
        "print(repr(b))   # Calls __repr__: Book('Python Basics')\n"
      ],
      "metadata": {
        "colab": {
          "base_uri": "https://localhost:8080/"
        },
        "id": "hOHr2yt5kcsf",
        "outputId": "854d3d5a-7687-421f-c003-f301d5c381ea"
      },
      "execution_count": null,
      "outputs": [
        {
          "output_type": "stream",
          "name": "stdout",
          "text": [
            "Book title: Python Basics\n",
            "Book('Python Basics')\n"
          ]
        }
      ]
    },
    {
      "cell_type": "markdown",
      "source": [
        "##20.What is the significance of the ‘super()’ function in Python?\n",
        "==> Definition:\n",
        "super() is a built-in function used to call methods of the parent class.\n",
        "\n",
        "**Why it's important:**\n",
        "\n",
        "##1.Avoids directly referring to the parent class.\n",
        "\n",
        "##2.Supports multiple inheritance cleanly.\n",
        "\n",
        "##3.Helps in code reuse and maintaining DRY (Don't Repeat Yourself) principle."
      ],
      "metadata": {
        "id": "bWJgGCq-k7dF"
      }
    },
    {
      "cell_type": "code",
      "source": [
        "class Parent:\n",
        "    def greet(self):\n",
        "        print(\"Hello from Parent\")\n",
        "\n",
        "class Child(Parent):\n",
        "    def greet(self):\n",
        "        super().greet()  # Call parent method\n",
        "        print(\"Hello from Child\")\n",
        "\n",
        "c = Child()\n",
        "c.greet()\n"
      ],
      "metadata": {
        "colab": {
          "base_uri": "https://localhost:8080/"
        },
        "id": "6MPqi3nok5dv",
        "outputId": "12d5f1b5-e122-4f06-da42-07372fb7606b"
      },
      "execution_count": null,
      "outputs": [
        {
          "output_type": "stream",
          "name": "stdout",
          "text": [
            "Hello from Parent\n",
            "Hello from Child\n"
          ]
        }
      ]
    },
    {
      "cell_type": "markdown",
      "source": [
        "##21.What is the significance of the __del__ method in Python?\n",
        "==>> The __del__ method in Python is a special method (destructor) called when an object’s reference count reaches zero, allowing custom cleanup (e.g., closing files or connections) before garbage collection. It’s useful for resource management but not guaranteed to run, so context managers (with) or explicit cleanup methods are preferred."
      ],
      "metadata": {
        "id": "sIJryrKCl0SM"
      }
    },
    {
      "cell_type": "code",
      "source": [
        "class FileHandler:\n",
        "    def __init__(self, filename):\n",
        "        self.file = open(filename, 'w')\n",
        "        print(f\"File {filename} opened\")\n",
        "\n",
        "    def __del__(self):\n",
        "        self.file.close()\n",
        "        print(f\"File closed\")\n",
        "\n",
        "fh = FileHandler(\"test.txt\")\n",
        "del fh"
      ],
      "metadata": {
        "colab": {
          "base_uri": "https://localhost:8080/"
        },
        "id": "VbdOglb9loTh",
        "outputId": "9df170b1-dee4-457b-92a1-298d51e114d3"
      },
      "execution_count": null,
      "outputs": [
        {
          "output_type": "stream",
          "name": "stdout",
          "text": [
            "File test.txt opened\n",
            "File closed\n"
          ]
        }
      ]
    },
    {
      "cell_type": "markdown",
      "source": [
        "##22.What is the difference between @staticmethod and @classmethod in Python?\n",
        "==>>Explanation\n",
        "\n",
        "@staticmethod:\n",
        "\n",
        "static_method is a utility function that adds two numbers.\n",
        "It doesn't need self or cls and behaves like a regular function but is scoped to the class namespace.\n",
        "Useful for helper functions related to the class (e.g., formatters, converters).\n",
        "@classmethod:\n",
        "\n",
        "class_method receives cls, allowing it to access class attributes (class_variable) or the class itself (cls.__name__).\n",
        "Useful for factory methods or operations that modify class state."
      ],
      "metadata": {
        "id": "rAkZrqWymhMx"
      }
    },
    {
      "cell_type": "code",
      "source": [
        "class Parent:\n",
        "    @classmethod\n",
        "    def who_am_i(cls):\n",
        "        return f\"I am {cls.__name__}\"\n",
        "\n",
        "class Child(Parent):\n",
        "    pass\n",
        "\n",
        "print(Parent.who_am_i())\n",
        "print(Child.who_am_i())"
      ],
      "metadata": {
        "colab": {
          "base_uri": "https://localhost:8080/"
        },
        "id": "yb6-SBH1mdbe",
        "outputId": "218ee52f-f7dd-4b23-bf72-dbd584ee129b"
      },
      "execution_count": null,
      "outputs": [
        {
          "output_type": "stream",
          "name": "stdout",
          "text": [
            "I am Parent\n",
            "I am Child\n"
          ]
        }
      ]
    },
    {
      "cell_type": "code",
      "source": [
        "class Person:\n",
        "    def __init__(self, name, age):\n",
        "        self.name = name\n",
        "        self.age = age\n",
        "\n",
        "    @classmethod\n",
        "    def from_birth_year(cls, name, birth_year):\n",
        "        return cls(name, 2025 - birth_year)\n",
        "\n",
        "person = Person.from_birth_year(\"Alice\", 1990)\n",
        "print(person.name, person.age)"
      ],
      "metadata": {
        "colab": {
          "base_uri": "https://localhost:8080/"
        },
        "id": "0_HwVn7cnSTW",
        "outputId": "d6b6105d-44bc-4992-800d-87163f585c82"
      },
      "execution_count": null,
      "outputs": [
        {
          "output_type": "stream",
          "name": "stdout",
          "text": [
            "Alice 35\n"
          ]
        }
      ]
    },
    {
      "cell_type": "markdown",
      "source": [
        "##23.How does polymorphism work in Python with inheritance?\n",
        "==>. Polymorphism in Python, with inheritance, allows subclasses to override or extend methods of a parent class, enabling different classes to be treated uniformly through a common interface.\n",
        "\n",
        "### How It Works\n",
        "- **Inheritance**: A subclass inherits methods from a parent class.\n",
        "- **Method Overriding**: The subclass redefines a parent class method to provide specific behavior.\n",
        "- **Dynamic Dispatch**: Python calls the appropriate method based on the object's actual type at runtime, not the reference type.\n",
        "\n"
      ],
      "metadata": {
        "id": "CJGNbosFnc7q"
      }
    },
    {
      "cell_type": "code",
      "source": [
        "class Animal:\n",
        "    def speak(self):\n",
        "        return \"I make a sound\"\n",
        "\n",
        "class Dog(Animal):\n",
        "    def speak(self):  # Override parent method\n",
        "        return \"Woof!\"\n",
        "\n",
        "class Cat(Animal):\n",
        "    def speak(self):  # Override parent method\n",
        "        return \"Meow!\"\n",
        "\n",
        "# Polymorphic behavior\n",
        "animals = [Dog(), Cat()]\n",
        "for animal in animals:\n",
        "    print(animal.speak())"
      ],
      "metadata": {
        "colab": {
          "base_uri": "https://localhost:8080/"
        },
        "id": "9Vn_ZafjnZX0",
        "outputId": "8f98ff8d-4112-43e7-9b44-cb645d8933f3"
      },
      "execution_count": null,
      "outputs": [
        {
          "output_type": "stream",
          "name": "stdout",
          "text": [
            "Woof!\n",
            "Meow!\n"
          ]
        }
      ]
    },
    {
      "cell_type": "markdown",
      "source": [
        "##24.What is method chaining in Python OOP?\n",
        "==>\n",
        "Method chaining in Python OOP is a technique where multiple methods are called on an object in a single line, with each method returning the object itself (self) to allow the next method call.\n",
        "\n",
        "How It Works\n",
        "A method returns self (the instance).\n",
        "This enables subsequent method calls on the same object in a fluent, chained manner."
      ],
      "metadata": {
        "id": "it4HYIHvoO0H"
      }
    },
    {
      "cell_type": "code",
      "source": [
        "class Car:\n",
        "    def __init__(self):\n",
        "        self.color = \"\"\n",
        "        self.speed = 0\n",
        "\n",
        "    def set_color(self, color):\n",
        "        self.color = color\n",
        "        return self  # Return self for chaining\n",
        "\n",
        "    def set_speed(self, speed):\n",
        "        self.speed = speed\n",
        "        return self  # Return self for chaining\n",
        "\n",
        "# Method chaining\n",
        "car = Car().set_color(\"Red\").set_speed(100)\n",
        "print(car.color, car.speed)"
      ],
      "metadata": {
        "colab": {
          "base_uri": "https://localhost:8080/"
        },
        "id": "zHSCPjtSoBTV",
        "outputId": "8c05f2a5-ea42-4428-db6e-61c13e2056af"
      },
      "execution_count": null,
      "outputs": [
        {
          "output_type": "stream",
          "name": "stdout",
          "text": [
            "Red 100\n"
          ]
        }
      ]
    },
    {
      "cell_type": "markdown",
      "source": [
        "##25.What is the purpose of the __call__ method in Python?\n",
        "==>>\n",
        "The __call__ method in Python makes an instance of a class callable like a function. When defined in a class, it allows the instance to be invoked with parentheses () and optional arguments, enabling custom behavior during the call.\n",
        "\n",
        "Purpose\n",
        "Custom Callable Objects: It lets instances behave like functions, providing a way to encapsulate functionality within an object while maintaining state.\n",
        "Flexibility: Useful for creating objects that need to be invoked repeatedly with specific logic, such as functors, decorators, or stateful callbacks."
      ],
      "metadata": {
        "id": "1oL6c2Q_ovys"
      }
    },
    {
      "cell_type": "code",
      "source": [
        "class Multiplier:\n",
        "    def __init__(self, factor):\n",
        "        self.factor = factor\n",
        "\n",
        "    def __call__(self, value):\n",
        "        return self.factor * value\n",
        "\n",
        "# Create an instance and call it\n",
        "double = Multiplier(2)\n",
        "print(double(5))\n",
        "triple = Multiplier(3)\n",
        "print(triple(5))"
      ],
      "metadata": {
        "colab": {
          "base_uri": "https://localhost:8080/"
        },
        "id": "r1R1150Iopb1",
        "outputId": "28fb8005-805e-477f-e713-0194479615bb"
      },
      "execution_count": null,
      "outputs": [
        {
          "output_type": "stream",
          "name": "stdout",
          "text": [
            "10\n",
            "15\n"
          ]
        }
      ]
    },
    {
      "cell_type": "markdown",
      "source": [
        "##**PRACTICAL QUESTION**"
      ],
      "metadata": {
        "id": "LAza8s5J03tZ"
      }
    },
    {
      "cell_type": "markdown",
      "source": [
        "##1.1. Create a parent class Animal with a method speak() that prints a generic message. Create a child class Dog that overrides the speak() method to print \"Bark!\"."
      ],
      "metadata": {
        "id": "VQ6xUyb01JW7"
      }
    },
    {
      "cell_type": "code",
      "source": [
        "class Animal:\n",
        "  def speak(self):\n",
        "    print(\"Animal makes a sound!\")\n",
        "class Dog(Animal):\n",
        "  def speak(self):\n",
        "    print(\"Bark!\")"
      ],
      "metadata": {
        "id": "MJBAAldrpJEe"
      },
      "execution_count": null,
      "outputs": []
    },
    {
      "cell_type": "code",
      "source": [
        "d = Dog()"
      ],
      "metadata": {
        "id": "qaXt1Mxm1UO8"
      },
      "execution_count": null,
      "outputs": []
    },
    {
      "cell_type": "code",
      "source": [
        "d.speak()"
      ],
      "metadata": {
        "colab": {
          "base_uri": "https://localhost:8080/"
        },
        "id": "Ey-u6dIz1qGR",
        "outputId": "50c82ed6-95f7-4fd5-e177-8bcbbed9fc4c"
      },
      "execution_count": null,
      "outputs": [
        {
          "output_type": "stream",
          "name": "stdout",
          "text": [
            "Bark!\n"
          ]
        }
      ]
    },
    {
      "cell_type": "markdown",
      "source": [
        "##2. Write a program to create an abstract class Shape with a method area(). Derive classes Circle and Rectangle from it and implement the area() method in both."
      ],
      "metadata": {
        "id": "bla1aVSt1ud6"
      }
    },
    {
      "cell_type": "code",
      "source": [
        "from abc import ABC, abstractmethod\n",
        "import math\n",
        "\n",
        "# Abstract class\n",
        "class Shape(ABC):\n",
        "    @abstractmethod\n",
        "    def area(self):\n",
        "        pass\n",
        "\n",
        "# Circle class\n",
        "class Circle(Shape):\n",
        "    def __init__(self, radius):\n",
        "        self.radius = radius\n",
        "\n",
        "    def area(self):\n",
        "        return math.pi * self.radius ** 2\n",
        "\n",
        "# Rectangle class\n",
        "class Rectangle(Shape):\n",
        "    def __init__(self, length, width):\n",
        "        self.length = length\n",
        "        self.width = width\n",
        "\n",
        "    def area(self):\n",
        "        return self.length * self.width\n",
        "\n",
        "# Main program\n",
        "circle = Circle(7)\n",
        "print(f\"Area of Circle with radius 7: {circle.area():.2f}\")\n",
        "\n",
        "rectangle = Rectangle(5, 3)\n",
        "print(f\"Area of Rectangle with length 5 and width 3: {rectangle.area()}\")\n"
      ],
      "metadata": {
        "id": "I5vhKJMu6QRb",
        "colab": {
          "base_uri": "https://localhost:8080/"
        },
        "outputId": "d140b983-f64f-4093-86ea-e2bad3db9a85"
      },
      "execution_count": 1,
      "outputs": [
        {
          "output_type": "stream",
          "name": "stdout",
          "text": [
            "Area of Circle with radius 7: 153.94\n",
            "Area of Rectangle with length 5 and width 3: 15\n"
          ]
        }
      ]
    },
    {
      "cell_type": "markdown",
      "source": [
        "##3. Implement a multi-level inheritance scenario where a class Vehicle has an attribute type. Derive a class Car and further derive a class ElectricCar that adds a battery attribute."
      ],
      "metadata": {
        "id": "urFc6BedR5mr"
      }
    },
    {
      "cell_type": "code",
      "source": [
        "# Base class\n",
        "class Vehicle:\n",
        "    def __init__(self, type):\n",
        "        self.type = type\n",
        "\n",
        "    def display_info(self):\n",
        "        print(f\"Vehicle type: {self.type}\")\n",
        "\n",
        "# Derived class\n",
        "class Car(Vehicle):\n",
        "    def __init__(self, type, brand):\n",
        "        super().__init__(type)\n",
        "        self.brand = brand\n",
        "\n",
        "    def display_info(self):\n",
        "        super().display_info()\n",
        "        print(f\"Car brand: {self.brand}\")\n",
        "\n",
        "# Further derived class\n",
        "class ElectricCar(Car):\n",
        "    def __init__(self, type, brand, battery_capacity):\n",
        "        super().__init__(type, brand)\n",
        "        self.battery_capacity = battery_capacity\n",
        "\n",
        "    def display_info(self):\n",
        "        super().display_info()\n",
        "        print(f\"Battery capacity: {self.battery_capacity} kWh\")\n",
        "\n",
        "# Testing the multi-level inheritance\n",
        "ev = ElectricCar(\"Four-wheeler\", \"Tesla\", 75)\n",
        "ev.display_info()\n"
      ],
      "metadata": {
        "colab": {
          "base_uri": "https://localhost:8080/"
        },
        "id": "58B7AVWtRbCN",
        "outputId": "a6dea68a-a94a-44a5-b757-38279602dd8c"
      },
      "execution_count": 2,
      "outputs": [
        {
          "output_type": "stream",
          "name": "stdout",
          "text": [
            "Vehicle type: Four-wheeler\n",
            "Car brand: Tesla\n",
            "Battery capacity: 75 kWh\n"
          ]
        }
      ]
    },
    {
      "cell_type": "markdown",
      "source": [
        "##4. Demonstrate polymorphism by creating a base class Bird with a method fly(). Create two derived classes Sparrow and Penguin that override the fly() method."
      ],
      "metadata": {
        "id": "2Qpbl47dSISv"
      }
    },
    {
      "cell_type": "code",
      "source": [
        "# Base class\n",
        "class Bird:\n",
        "    def fly(self):\n",
        "        print(\"Some birds can fly.\")\n",
        "\n",
        "# Derived class: Sparrow\n",
        "class Sparrow(Bird):\n",
        "    def fly(self):\n",
        "        print(\"Sparrow flies high in the sky.\")\n",
        "\n",
        "# Derived class: Penguin\n",
        "class Penguin(Bird):\n",
        "    def fly(self):\n",
        "        print(\"Penguins cannot fly, they swim.\")\n",
        "\n",
        "# Function demonstrating polymorphism\n",
        "def show_flight(bird):\n",
        "    bird.fly()\n",
        "\n",
        "# Creating objects\n",
        "bird1 = Sparrow()\n",
        "bird2 = Penguin()\n",
        "\n",
        "# Using polymorphism\n",
        "show_flight(bird1)\n",
        "show_flight(bird2)\n"
      ],
      "metadata": {
        "colab": {
          "base_uri": "https://localhost:8080/"
        },
        "id": "ambsdvbjSBo_",
        "outputId": "ba9b0f9d-5442-45fc-a922-cdcd437d273f"
      },
      "execution_count": 4,
      "outputs": [
        {
          "output_type": "stream",
          "name": "stdout",
          "text": [
            "Sparrow flies high in the sky.\n",
            "Penguins cannot fly, they swim.\n"
          ]
        }
      ]
    },
    {
      "cell_type": "markdown",
      "source": [
        "##5.Write a program to demonstrate encapsulation by creating a class BankAccount with private attributes balance and methods to deposit, withdraw, and check balance."
      ],
      "metadata": {
        "id": "fRIdE_UZSmFu"
      }
    },
    {
      "cell_type": "code",
      "source": [
        "class BankAccount:\n",
        "    def __init__(self, initial_balance=0):\n",
        "        self.__balance = initial_balance  # Private attribute\n",
        "\n",
        "    def deposit(self, amount):\n",
        "        if amount > 0:\n",
        "            self.__balance += amount\n",
        "            print(f\"Deposited: ₹{amount}\")\n",
        "        else:\n",
        "            print(\"Deposit amount must be positive.\")\n",
        "\n",
        "    def withdraw(self, amount):\n",
        "        if 0 < amount <= self.__balance:\n",
        "            self.__balance -= amount\n",
        "            print(f\"Withdrew: ₹{amount}\")\n",
        "        else:\n",
        "            print(\"Insufficient balance or invalid amount.\")\n",
        "\n",
        "    def check_balance(self):\n",
        "        print(f\"Current Balance: ₹{self.__balance}\")\n",
        "\n",
        "# Testing the BankAccount class\n",
        "account = BankAccount(1000)\n",
        "account.check_balance()\n",
        "account.deposit(500)\n",
        "account.withdraw(200)\n",
        "account.check_balance()\n",
        "\n",
        "\n"
      ],
      "metadata": {
        "colab": {
          "base_uri": "https://localhost:8080/"
        },
        "id": "HkscUC50SbBC",
        "outputId": "f1dff1e5-136c-4ac1-bae6-93c51169e1c7"
      },
      "execution_count": 5,
      "outputs": [
        {
          "output_type": "stream",
          "name": "stdout",
          "text": [
            "Current Balance: ₹1000\n",
            "Deposited: ₹500\n",
            "Withdrew: ₹200\n",
            "Current Balance: ₹1300\n"
          ]
        }
      ]
    },
    {
      "cell_type": "markdown",
      "source": [
        "##7. Create a class MathOperations with a class method add_numbers() to add two numbers and a static method subtract_numbers() to subtract two numbers."
      ],
      "metadata": {
        "id": "KDepCPzfTH1R"
      }
    },
    {
      "cell_type": "code",
      "source": [
        "class MathOperations:\n",
        "    @classmethod\n",
        "    def add_numbers(cls, a, b):\n",
        "        return a + b\n",
        "\n",
        "    @staticmethod\n",
        "    def subtract_numbers(a, b):\n",
        "        return a - b\n",
        "\n",
        "# Using the class method\n",
        "sum_result = MathOperations.add_numbers(10, 5)\n",
        "print(f\"Sum: {sum_result}\")\n",
        "\n",
        "# Using the static method\n",
        "difference = MathOperations.subtract_numbers(10, 5)\n",
        "print(f\"Difference: {difference}\")\n"
      ],
      "metadata": {
        "colab": {
          "base_uri": "https://localhost:8080/"
        },
        "id": "uAPuEvJCS9gL",
        "outputId": "b2687814-c01e-4153-aec6-7a8cd06d7398"
      },
      "execution_count": 6,
      "outputs": [
        {
          "output_type": "stream",
          "name": "stdout",
          "text": [
            "Sum: 15\n",
            "Difference: 5\n"
          ]
        }
      ]
    },
    {
      "cell_type": "markdown",
      "source": [
        "##8. Implement a class Person with a class method to count the total number of persons created."
      ],
      "metadata": {
        "id": "H5IAsDA7UKs1"
      }
    },
    {
      "cell_type": "code",
      "source": [
        "class Person:\n",
        "    count = 0  # Class variable to track number of persons\n",
        "\n",
        "    def __init__(self, name):\n",
        "        self.name = name\n",
        "        Person.count += 1  # Increment count whenever a new Person is created\n",
        "\n",
        "    @classmethod\n",
        "    def total_persons(cls):\n",
        "        return cls.count\n",
        "\n",
        "# Creating instances\n",
        "p1 = Person(\"Alice\")\n",
        "p2 = Person(\"Bob\")\n",
        "p3 = Person(\"Charlie\")\n",
        "\n",
        "# Checking total number of persons\n",
        "print(f\"Total persons created: {Person.total_persons()}\")  # Output: Total persons created: 3\n"
      ],
      "metadata": {
        "colab": {
          "base_uri": "https://localhost:8080/"
        },
        "id": "D_m189yhTd8G",
        "outputId": "35cf3d1b-672d-47e0-c4a9-3da8ef314991"
      },
      "execution_count": 7,
      "outputs": [
        {
          "output_type": "stream",
          "name": "stdout",
          "text": [
            "Total persons created: 3\n"
          ]
        }
      ]
    },
    {
      "cell_type": "markdown",
      "source": [
        "##9. Write a class Fraction with attributes numerator and denominator. Override the str method to display the fraction as \"numerator/denominator\""
      ],
      "metadata": {
        "id": "rRpwI0EbVT4G"
      }
    },
    {
      "cell_type": "code",
      "source": [
        "class Fraction:\n",
        "    def __init__(self, numerator, denominator):\n",
        "        if denominator == 0:\n",
        "            raise ValueError(\"Denominator cannot be zero.\")\n",
        "        self.numerator = numerator\n",
        "        self.denominator = denominator\n",
        "\n",
        "    def __str__(self):\n",
        "        return f\"{self.numerator}/{self.denominator}\"\n",
        "\n",
        "# Creating and displaying fractions\n",
        "f1 = Fraction(3, 4)\n",
        "f2 = Fraction(5, 2)\n",
        "\n",
        "print(f\"Fraction 1: {f1}\")\n",
        "print(f\"Fraction 2: {f2}\")\n"
      ],
      "metadata": {
        "colab": {
          "base_uri": "https://localhost:8080/"
        },
        "id": "zfarCqe-VTCf",
        "outputId": "7c9f9a34-a1e5-4b93-a95a-90265ef7dec9"
      },
      "execution_count": 8,
      "outputs": [
        {
          "output_type": "stream",
          "name": "stdout",
          "text": [
            "Fraction 1: 3/4\n",
            "Fraction 2: 5/2\n"
          ]
        }
      ]
    },
    {
      "cell_type": "markdown",
      "source": [
        "##10. Demonstrate operator overloading by creating a class Vector and overriding the add method to add two vectors."
      ],
      "metadata": {
        "id": "gEvmId8xV08X"
      }
    },
    {
      "cell_type": "code",
      "source": [
        "class Vector:\n",
        "    def __init__(self, x, y):\n",
        "        self.x = x\n",
        "        self.y = y\n",
        "\n",
        "    def __add__(self, other):\n",
        "        if isinstance(other, Vector):\n",
        "            return Vector(self.x + other.x, self.y + other.y)\n",
        "        return NotImplemented\n",
        "\n",
        "    def __str__(self):\n",
        "        return f\"Vector({self.x}, {self.y})\"\n",
        "\n",
        "# Creating two vectors\n",
        "v1 = Vector(2, 3)\n",
        "v2 = Vector(4, 5)\n",
        "\n",
        "# Adding vectors using overloaded +\n",
        "result = v1 + v2\n",
        "\n",
        "# Displaying the result\n",
        "print(f\"v1: {v1}\")\n",
        "print(f\"v2: {v2}\")\n",
        "print(f\"v1 + v2: {result}\")\n"
      ],
      "metadata": {
        "colab": {
          "base_uri": "https://localhost:8080/"
        },
        "id": "BYmYw_QgVRv1",
        "outputId": "41e09666-a729-479e-ad24-6244b5b8a978"
      },
      "execution_count": 9,
      "outputs": [
        {
          "output_type": "stream",
          "name": "stdout",
          "text": [
            "v1: Vector(2, 3)\n",
            "v2: Vector(4, 5)\n",
            "v1 + v2: Vector(6, 8)\n"
          ]
        }
      ]
    },
    {
      "cell_type": "markdown",
      "source": [
        "##11. Create a class Person with attributes name and age. Add a method greet() that prints \"Hello, my name is {name} and I am {age} years old.\""
      ],
      "metadata": {
        "id": "bomwR4k-WWlH"
      }
    },
    {
      "cell_type": "code",
      "source": [
        "class Person:\n",
        "    def __init__(self, name, age):\n",
        "        self.name = name\n",
        "        self.age = age\n",
        "\n",
        "    def greet(self):\n",
        "        print(f\"Hello, my name is {self.name} and I am {self.age} years old.\")\n",
        "\n",
        "# Creating and using the class\n",
        "person1 = Person(\"Alice\", 30)\n",
        "person2 = Person(\"Bob\", 25)\n",
        "\n",
        "person1.greet()\n",
        "person2.greet()"
      ],
      "metadata": {
        "colab": {
          "base_uri": "https://localhost:8080/"
        },
        "id": "fogzivMqWVOm",
        "outputId": "90b0b4d1-9a71-436d-b350-3788cb89531f"
      },
      "execution_count": 10,
      "outputs": [
        {
          "output_type": "stream",
          "name": "stdout",
          "text": [
            "Hello, my name is Alice and I am 30 years old.\n",
            "Hello, my name is Bob and I am 25 years old.\n"
          ]
        }
      ]
    },
    {
      "cell_type": "markdown",
      "source": [
        "##12. Implement a class Student with attributes name and grades. Create a method average_grade() to compute the average of the grades."
      ],
      "metadata": {
        "id": "WTWSjlhaWunQ"
      }
    },
    {
      "cell_type": "code",
      "source": [
        "class Student:\n",
        "    def __init__(self, name, grades):\n",
        "        self.name = name\n",
        "        self.grades = grades  # Should be a list of numbers\n",
        "\n",
        "    def average_grade(self):\n",
        "        if not self.grades:\n",
        "            return 0\n",
        "        return sum(self.grades) / len(self.grades)\n",
        "\n",
        "# Example usage\n",
        "student1 = Student(\"Riya\", [85, 90, 78, 92])\n",
        "student2 = Student(\"Aman\", [70, 75])\n",
        "\n",
        "print(f\"{student1.name}'s average grade: {student1.average_grade():.2f}\")\n",
        "print(f\"{student2.name}'s average grade: {student2.average_grade():.2f}\")\n"
      ],
      "metadata": {
        "colab": {
          "base_uri": "https://localhost:8080/"
        },
        "id": "YeLCn-LXWlPN",
        "outputId": "c4137f6f-ebca-4f0d-f01f-9d08c6f60e64"
      },
      "execution_count": 11,
      "outputs": [
        {
          "output_type": "stream",
          "name": "stdout",
          "text": [
            "Riya's average grade: 86.25\n",
            "Aman's average grade: 72.50\n"
          ]
        }
      ]
    },
    {
      "cell_type": "markdown",
      "source": [
        "##13. Create a class Rectangle with methods set_dimensions() to set the dimensions and area() to calculate the area."
      ],
      "metadata": {
        "id": "-zOoUKpQYj_u"
      }
    },
    {
      "cell_type": "code",
      "source": [
        "class Rectangle:\n",
        "    def __init__(self):\n",
        "        self.length = 0\n",
        "        self.width = 0\n",
        "\n",
        "    def set_dimensions(self, length, width):\n",
        "        self.length = length\n",
        "        self.width = width\n",
        "\n",
        "    def area(self):\n",
        "        return self.length * self.width\n",
        "\n",
        "# Example usage\n",
        "rect = Rectangle()\n",
        "rect.set_dimensions(5, 3)\n",
        "print(f\"Area of rectangle: {rect.area()}\")\n"
      ],
      "metadata": {
        "colab": {
          "base_uri": "https://localhost:8080/"
        },
        "id": "4ns_ygw9YZAv",
        "outputId": "f74eac33-452b-4dac-ec7d-00f5ad79cfbc"
      },
      "execution_count": 12,
      "outputs": [
        {
          "output_type": "stream",
          "name": "stdout",
          "text": [
            "Area of rectangle: 15\n"
          ]
        }
      ]
    },
    {
      "cell_type": "markdown",
      "source": [
        "##14. Create a class Employee with a method calculate_salary() that computes the salary based on hours worked and hourly rate. Create a derived class Manager that adds a bonus to the salary."
      ],
      "metadata": {
        "id": "mgHWKlX9fYwW"
      }
    },
    {
      "cell_type": "code",
      "source": [
        "class Employee:\n",
        "    def __init__(self, name, hours_worked, hourly_rate):\n",
        "        self.name = name\n",
        "        self.hours_worked = hours_worked\n",
        "        self.hourly_rate = hourly_rate\n",
        "\n",
        "    def calculate_salary(self):\n",
        "        return self.hours_worked * self.hourly_rate\n",
        "\n",
        "class Manager(Employee):\n",
        "    def __init__(self, name, hours_worked, hourly_rate, bonus):\n",
        "        super().__init__(name, hours_worked, hourly_rate)\n",
        "        self.bonus = bonus\n",
        "\n",
        "    def calculate_salary(self):\n",
        "        base_salary = super().calculate_salary()\n",
        "        return base_salary + self.bonus\n",
        "\n",
        "# Example usage:\n",
        "employee = Employee(\"John\", 40, 20)\n",
        "manager = Manager(\"Alice\", 40, 30, 500)\n",
        "\n",
        "print(f\"{employee.name}'s salary: ${employee.calculate_salary()}\")\n",
        "print(f\"{manager.name}'s salary: ${manager.calculate_salary()}\")"
      ],
      "metadata": {
        "colab": {
          "base_uri": "https://localhost:8080/"
        },
        "id": "sLrn8ipaeyQs",
        "outputId": "a868e979-885d-43e8-eedf-3d8be1ef4cb2"
      },
      "execution_count": 13,
      "outputs": [
        {
          "output_type": "stream",
          "name": "stdout",
          "text": [
            "John's salary: $800\n",
            "Alice's salary: $1700\n"
          ]
        }
      ]
    },
    {
      "cell_type": "markdown",
      "source": [
        "##15. Create a class Product with attributes name, price, and quantity. Implement a method total_price() that calculates the total price of the product."
      ],
      "metadata": {
        "id": "ZIEl_MXyflKj"
      }
    },
    {
      "cell_type": "code",
      "source": [
        "class Product:\n",
        "    def __init__(self, name, price, quantity):\n",
        "        self.name = name\n",
        "        self.price = price\n",
        "        self.quantity = quantity\n",
        "\n",
        "    def total_price(self):\n",
        "        return self.price * self.quantity\n",
        "\n",
        "# Create a product instance\n",
        "product = Product(\"Laptop\", 1000, 3)\n",
        "\n",
        "# Calculate and print the total price\n",
        "print(f\"Total price for {product.name}: ${product.total_price()}\")"
      ],
      "metadata": {
        "colab": {
          "base_uri": "https://localhost:8080/"
        },
        "id": "FjNltbu6fyjZ",
        "outputId": "2d8b7054-87a7-4835-dc30-eabcd12f360c"
      },
      "execution_count": 17,
      "outputs": [
        {
          "output_type": "stream",
          "name": "stdout",
          "text": [
            "Total price for Laptop: $3000\n"
          ]
        }
      ]
    },
    {
      "cell_type": "markdown",
      "source": [
        "##16. Create a class Animal with an abstract method sound(). Create two derived classes Cow and Sheep that implement the sound() method."
      ],
      "metadata": {
        "id": "DqRAbIZkgm-v"
      }
    },
    {
      "cell_type": "code",
      "source": [
        "from abc import ABC, abstractmethod\n",
        "\n",
        "class Animal(ABC):\n",
        "    @abstractmethod\n",
        "    def sound(self):\n",
        "        pass\n",
        "\n",
        "class Cow(Animal):\n",
        "    def sound(self):\n",
        "        return \"Moo\"\n",
        "\n",
        "class Sheep(Animal):\n",
        "    def sound(self):\n",
        "        return \"Baa\"\n",
        "\n",
        "# Example usage:\n",
        "cow = Cow()\n",
        "sheep = Sheep()\n",
        "\n",
        "print(f\"Cow says: {cow.sound()}\")\n",
        "print(f\"Sheep says: {sheep.sound()}\")"
      ],
      "metadata": {
        "colab": {
          "base_uri": "https://localhost:8080/"
        },
        "id": "JqkUYg-AgjIv",
        "outputId": "0b010d8d-0f83-4391-ec37-3542c89bcff0"
      },
      "execution_count": 18,
      "outputs": [
        {
          "output_type": "stream",
          "name": "stdout",
          "text": [
            "Cow says: Moo\n",
            "Sheep says: Baa\n"
          ]
        }
      ]
    },
    {
      "cell_type": "markdown",
      "source": [
        "##17. Create a class Book with attributes title, author, and year_published. Add a method get_book_info() that returns a formatted string with the book's details."
      ],
      "metadata": {
        "id": "aelHcGJrg7oC"
      }
    },
    {
      "cell_type": "code",
      "source": [
        "class Book:\n",
        "    def __init__(self, title, author, year_published):\n",
        "        self.title = title\n",
        "        self.author = author\n",
        "        self.year_published = year_published\n",
        "\n",
        "    def get_book_info(self):\n",
        "        return f\"'{self.title}' by {self.author}, published in {self.year_published}\"\n",
        "\n",
        "# Example usage:\n",
        "book = Book(\"1984\", \"George Orwell\", 1949)\n",
        "print(book.get_book_info())\n"
      ],
      "metadata": {
        "colab": {
          "base_uri": "https://localhost:8080/"
        },
        "id": "R4ecEebFg0o_",
        "outputId": "f2d9fcb2-f047-45cf-d477-885fa027ab5f"
      },
      "execution_count": 20,
      "outputs": [
        {
          "output_type": "stream",
          "name": "stdout",
          "text": [
            "'1984' by George Orwell, published in 1949\n"
          ]
        }
      ]
    },
    {
      "cell_type": "markdown",
      "source": [
        "##18. Create a class House with attributes address and price. Create a derived class Mansion that adds an attribute number_of_rooms."
      ],
      "metadata": {
        "id": "LGZ5ORGOhJNN"
      }
    },
    {
      "cell_type": "code",
      "source": [
        "class House:\n",
        "    def __init__(self, address, price):\n",
        "        self.address = address\n",
        "        self.price = price\n",
        "\n",
        "class Mansion(House):\n",
        "    def __init__(self, address, price, number_of_rooms):\n",
        "        super().__init__(address, price)\n",
        "        self.number_of_rooms = number_of_rooms\n",
        "\n",
        "# Example usage:\n",
        "house = House(\"123 Main St\", 250000)\n",
        "mansion = Mansion(\"456 Elm St\", 1500000, 12)\n",
        "\n",
        "print(f\"House at {house.address} costs ${house.price}\")\n",
        "print(f\"Mansion at {mansion.address} costs ${mansion.price} with {mansion.number_of_rooms} rooms\")"
      ],
      "metadata": {
        "colab": {
          "base_uri": "https://localhost:8080/"
        },
        "id": "8fG2KguJhGMP",
        "outputId": "4921012e-f32f-43a9-e24e-76ed788d6db4"
      },
      "execution_count": 21,
      "outputs": [
        {
          "output_type": "stream",
          "name": "stdout",
          "text": [
            "House at 123 Main St costs $250000\n",
            "Mansion at 456 Elm St costs $1500000 with 12 rooms\n"
          ]
        }
      ]
    },
    {
      "cell_type": "code",
      "source": [],
      "metadata": {
        "id": "bO3BxPh5hXaG"
      },
      "execution_count": null,
      "outputs": []
    }
  ]
}